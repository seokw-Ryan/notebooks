import numpy as np
import matplotlib.pyplot as plt



a = np.array([[4, 5, 6, 5, 34,4 ,5],])


a


a.size


a.shape


a.dtype


x = np.random.random(100)


plt.plot(x)



